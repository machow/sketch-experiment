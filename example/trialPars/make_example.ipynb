{
 "cells": [
  {
   "cell_type": "code",
   "execution_count": 23,
   "metadata": {
    "collapsed": true
   },
   "outputs": [],
   "source": [
    "import json\n",
    "from collections import OrderedDict as OD"
   ]
  },
  {
   "cell_type": "code",
   "execution_count": 40,
   "metadata": {
    "collapsed": true
   },
   "outputs": [],
   "source": [
    "def makeRect(left, top, width, height):\n",
    "    nodes = [[left, top], [left+width, top], [left+width, top+height], [left, top+height]]\n",
    "    return [{'type': 'drawLine', 'start': nodes[ii], 'end': nodes[(ii+1)%4]} for ii in range(4)]\n",
    "\n",
    "def drawPoints(points):\n",
    "    return {'type': 'draw', 'points': points}\n",
    "    \n",
    "def reorder(trial):\n",
    "    cols = ['type', 'order', 'start', 'end']\n",
    "    return [OD((k, entry[k]) for k in cols) for entry in trial]"
   ]
  },
  {
   "cell_type": "code",
   "execution_count": 45,
   "metadata": {
    "collapsed": false
   },
   "outputs": [],
   "source": [
    "trial1 = makeRect(50, 50, 200, 200)\n",
    "for ii, entry in enumerate(trial1): entry['order'] = ii\n",
    "\n",
    "trial1 = reorder(trial1)\n",
    "\n",
    "trial2 = makeRect(60, 30, 230, 230)\n",
    "for ii, entry in enumerate(trial2): entry['order'] = ii / 2\n",
    "trial2 = reorder(trial2)\n",
    "\n",
    "trial3 = [drawPoints([[100, 100], [100, 110], [120, 115], [130, 170]]),\n",
    "          drawPoints([[200, 200], [225, 175], [160, 120], [100, 100]])]\n",
    "for ii, entry in enumerate(trial3): entry['order'] = ii\n",
    "\n",
    "json.dump([trial1, trial2, trial3], open('example.json', 'w'))\n"
   ]
  }
 ],
 "metadata": {
  "kernelspec": {
   "display_name": "Python 2",
   "language": "python",
   "name": "python2"
  },
  "language_info": {
   "codemirror_mode": {
    "name": "ipython",
    "version": 2
   },
   "file_extension": ".py",
   "mimetype": "text/x-python",
   "name": "python",
   "nbconvert_exporter": "python",
   "pygments_lexer": "ipython2",
   "version": "2.7.9"
  }
 },
 "nbformat": 4,
 "nbformat_minor": 0
}
